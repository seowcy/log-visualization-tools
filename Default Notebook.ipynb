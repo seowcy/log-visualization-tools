{
 "cells": [
  {
   "cell_type": "code",
   "execution_count": 1,
   "metadata": {},
   "outputs": [],
   "source": [
    "from all_functions import *"
   ]
  },
  {
   "cell_type": "code",
   "execution_count": 2,
   "metadata": {},
   "outputs": [
    {
     "data": {
      "text/plain": [
       "['.ipynb_checkpoints',\n",
       " 'access.log',\n",
       " 'access.log.csv',\n",
       " 'all_functions.py',\n",
       " 'custom_functions.py',\n",
       " 'Default Notebook.ipynb',\n",
       " '__pycache__']"
      ]
     },
     "execution_count": 2,
     "metadata": {},
     "output_type": "execute_result"
    }
   ],
   "source": [
    "main_dir = \"./\"\n",
    "os.listdir(main_dir)"
   ]
  },
  {
   "cell_type": "code",
   "execution_count": 3,
   "metadata": {},
   "outputs": [],
   "source": [
    "file_path = main_dir + \"access.log\"\n",
    "with open(file_path, 'r') as f:\n",
    "    raw_lines = [i.strip() for i in f.readlines() if i.strip()]"
   ]
  },
  {
   "cell_type": "code",
   "execution_count": 4,
   "metadata": {},
   "outputs": [
    {
     "data": {
      "text/plain": [
       "'109.169.248.247 - - [12/Dec/2015:18:25:11 +0100] \"GET /administrator/ HTTP/1.1\" 200 4263 \"-\" \"Mozilla/5.0 (Windows NT 6.0; rv:34.0) Gecko/20100101 Firefox/34.0\" \"-\"'"
      ]
     },
     "execution_count": 4,
     "metadata": {},
     "output_type": "execute_result"
    }
   ],
   "source": [
    "raw_lines[0]"
   ]
  },
  {
   "cell_type": "code",
   "execution_count": 5,
   "metadata": {},
   "outputs": [],
   "source": [
    "pattern = r\"(?P<ip>.*) (?P<remote_log_name>.*) (?P<userid>.*) \\[(?P<date>.*)(?= ) (?P<timezone>.*?)\\] \\\"(?P<request_method>.*) (?P<path>.*)(?P<request_version> HTTP/.*)\\\" (?P<status>.*) (?P<length>.*) \\\"(?P<referrer>.*)\\\" \\\"(?P<user_agent>.*)\\\" \\\"(?P<extra>.*)\\\"\"\n",
    "mask = re.compile(pattern)\n",
    "match = mask.findall(raw_lines[0])"
   ]
  },
  {
   "cell_type": "code",
   "execution_count": 6,
   "metadata": {},
   "outputs": [
    {
     "data": {
      "text/plain": [
       "[('109.169.248.247',\n",
       "  '-',\n",
       "  '-',\n",
       "  '12/Dec/2015:18:25:11',\n",
       "  '+0100',\n",
       "  'GET',\n",
       "  '/administrator/',\n",
       "  ' HTTP/1.1',\n",
       "  '200',\n",
       "  '4263',\n",
       "  '-',\n",
       "  'Mozilla/5.0 (Windows NT 6.0; rv:34.0) Gecko/20100101 Firefox/34.0',\n",
       "  '-')]"
      ]
     },
     "execution_count": 6,
     "metadata": {},
     "output_type": "execute_result"
    }
   ],
   "source": [
    "match"
   ]
  },
  {
   "cell_type": "code",
   "execution_count": 9,
   "metadata": {},
   "outputs": [
    {
     "data": {
      "text/html": [
       "<div>\n",
       "<style scoped>\n",
       "    .dataframe tbody tr th:only-of-type {\n",
       "        vertical-align: middle;\n",
       "    }\n",
       "\n",
       "    .dataframe tbody tr th {\n",
       "        vertical-align: top;\n",
       "    }\n",
       "\n",
       "    .dataframe thead th {\n",
       "        text-align: right;\n",
       "    }\n",
       "</style>\n",
       "<table border=\"1\" class=\"dataframe\">\n",
       "  <thead>\n",
       "    <tr style=\"text-align: right;\">\n",
       "      <th></th>\n",
       "      <th>0</th>\n",
       "    </tr>\n",
       "  </thead>\n",
       "  <tbody>\n",
       "    <tr>\n",
       "      <th>0</th>\n",
       "      <td>109.169.248.247 - - [12/Dec/2015:18:25:11 +0100] \"GET /administrator/ HTTP/1.1\" 200 4263 \"-\" \"Mozilla/5.0 (Windows NT 6.0; rv:34.0) Gecko/20100101 Firefox/34.0\" \"-\"</td>\n",
       "    </tr>\n",
       "    <tr>\n",
       "      <th>1</th>\n",
       "      <td>109.169.248.247 - - [12/Dec/2015:18:25:11 +0100] \"POST /administrator/index.php HTTP/1.1\" 200 4494 \"http://almhuette-raith.at/administrator/\" \"Mozilla/5.0 (Windows NT 6.0; rv:34.0) Gecko/20100101 Firefox/34.0\" \"-\"</td>\n",
       "    </tr>\n",
       "    <tr>\n",
       "      <th>2</th>\n",
       "      <td>46.72.177.4 - - [12/Dec/2015:18:31:08 +0100] \"GET /administrator/ HTTP/1.1\" 200 4263 \"-\" \"Mozilla/5.0 (Windows NT 6.0; rv:34.0) Gecko/20100101 Firefox/34.0\" \"-\"</td>\n",
       "    </tr>\n",
       "    <tr>\n",
       "      <th>3</th>\n",
       "      <td>46.72.177.4 - - [12/Dec/2015:18:31:08 +0100] \"POST /administrator/index.php HTTP/1.1\" 200 4494 \"http://almhuette-raith.at/administrator/\" \"Mozilla/5.0 (Windows NT 6.0; rv:34.0) Gecko/20100101 Firefox/34.0\" \"-\"</td>\n",
       "    </tr>\n",
       "    <tr>\n",
       "      <th>4</th>\n",
       "      <td>83.167.113.100 - - [12/Dec/2015:18:31:25 +0100] \"GET /administrator/ HTTP/1.1\" 200 4263 \"-\" \"Mozilla/5.0 (Windows NT 6.0; rv:34.0) Gecko/20100101 Firefox/34.0\" \"-\"</td>\n",
       "    </tr>\n",
       "  </tbody>\n",
       "</table>\n",
       "</div>"
      ],
      "text/plain": [
       "                                                                                                                                                                                                                       0\n",
       "0  109.169.248.247 - - [12/Dec/2015:18:25:11 +0100] \"GET /administrator/ HTTP/1.1\" 200 4263 \"-\" \"Mozilla/5.0 (Windows NT 6.0; rv:34.0) Gecko/20100101 Firefox/34.0\" \"-\"                                                 \n",
       "1  109.169.248.247 - - [12/Dec/2015:18:25:11 +0100] \"POST /administrator/index.php HTTP/1.1\" 200 4494 \"http://almhuette-raith.at/administrator/\" \"Mozilla/5.0 (Windows NT 6.0; rv:34.0) Gecko/20100101 Firefox/34.0\" \"-\"\n",
       "2  46.72.177.4 - - [12/Dec/2015:18:31:08 +0100] \"GET /administrator/ HTTP/1.1\" 200 4263 \"-\" \"Mozilla/5.0 (Windows NT 6.0; rv:34.0) Gecko/20100101 Firefox/34.0\" \"-\"                                                     \n",
       "3  46.72.177.4 - - [12/Dec/2015:18:31:08 +0100] \"POST /administrator/index.php HTTP/1.1\" 200 4494 \"http://almhuette-raith.at/administrator/\" \"Mozilla/5.0 (Windows NT 6.0; rv:34.0) Gecko/20100101 Firefox/34.0\" \"-\"    \n",
       "4  83.167.113.100 - - [12/Dec/2015:18:31:25 +0100] \"GET /administrator/ HTTP/1.1\" 200 4263 \"-\" \"Mozilla/5.0 (Windows NT 6.0; rv:34.0) Gecko/20100101 Firefox/34.0\" \"-\"                                                  "
      ]
     },
     "execution_count": 9,
     "metadata": {},
     "output_type": "execute_result"
    }
   ],
   "source": [
    "file_path = main_dir + \"access.log\"\n",
    "df = pd.read_csv(file_path, sep='\\n', delimiter=None, header=None); df.head()"
   ]
  },
  {
   "cell_type": "code",
   "execution_count": 12,
   "metadata": {
    "scrolled": true
   },
   "outputs": [
    {
     "name": "stdout",
     "output_type": "stream",
     "text": [
      "Wall time: 8min 37s\n"
     ]
    }
   ],
   "source": [
    "%%time\n",
    "pattern = r\"(?P<ip>.*) (?P<remote_log_name>.*) (?P<userid>.*) \\[(?P<date>.*)(?= ) (?P<timezone>.*?)\\] \\\"(?P<request_method>.*) (?P<path>.*)(?P<request_version> HTTP/.*)\\\" (?P<status>.*) (?P<length>.*) \\\"(?P<referrer>.*)\\\" \\\"(?P<user_agent>.*)\\\" \\\"(?P<extra>.*)\\\"\"\n",
    "df = df[0].str.extract(pattern, expand=True)"
   ]
  },
  {
   "cell_type": "code",
   "execution_count": 16,
   "metadata": {
    "scrolled": true
   },
   "outputs": [
    {
     "data": {
      "text/html": [
       "<div>\n",
       "<style scoped>\n",
       "    .dataframe tbody tr th:only-of-type {\n",
       "        vertical-align: middle;\n",
       "    }\n",
       "\n",
       "    .dataframe tbody tr th {\n",
       "        vertical-align: top;\n",
       "    }\n",
       "\n",
       "    .dataframe thead th {\n",
       "        text-align: right;\n",
       "    }\n",
       "</style>\n",
       "<table border=\"1\" class=\"dataframe\">\n",
       "  <thead>\n",
       "    <tr style=\"text-align: right;\">\n",
       "      <th></th>\n",
       "      <th>ip</th>\n",
       "      <th>remote_log_name</th>\n",
       "      <th>userid</th>\n",
       "      <th>date</th>\n",
       "      <th>timezone</th>\n",
       "      <th>request_method</th>\n",
       "      <th>path</th>\n",
       "      <th>request_version</th>\n",
       "      <th>status</th>\n",
       "      <th>length</th>\n",
       "      <th>referrer</th>\n",
       "      <th>user_agent</th>\n",
       "      <th>extra</th>\n",
       "    </tr>\n",
       "  </thead>\n",
       "  <tbody>\n",
       "    <tr>\n",
       "      <th>0</th>\n",
       "      <td>109.169.248.247</td>\n",
       "      <td>-</td>\n",
       "      <td>-</td>\n",
       "      <td>12/Dec/2015:18:25:11</td>\n",
       "      <td>+0100</td>\n",
       "      <td>GET</td>\n",
       "      <td>/administrator/</td>\n",
       "      <td>HTTP/1.1</td>\n",
       "      <td>200</td>\n",
       "      <td>4263</td>\n",
       "      <td>-</td>\n",
       "      <td>Mozilla/5.0 (Windows NT 6.0; rv:34.0) Gecko/20100101 Firefox/34.0</td>\n",
       "      <td>-</td>\n",
       "    </tr>\n",
       "    <tr>\n",
       "      <th>1</th>\n",
       "      <td>109.169.248.247</td>\n",
       "      <td>-</td>\n",
       "      <td>-</td>\n",
       "      <td>12/Dec/2015:18:25:11</td>\n",
       "      <td>+0100</td>\n",
       "      <td>POST</td>\n",
       "      <td>/administrator/index.php</td>\n",
       "      <td>HTTP/1.1</td>\n",
       "      <td>200</td>\n",
       "      <td>4494</td>\n",
       "      <td>http://almhuette-raith.at/administrator/</td>\n",
       "      <td>Mozilla/5.0 (Windows NT 6.0; rv:34.0) Gecko/20100101 Firefox/34.0</td>\n",
       "      <td>-</td>\n",
       "    </tr>\n",
       "    <tr>\n",
       "      <th>2</th>\n",
       "      <td>46.72.177.4</td>\n",
       "      <td>-</td>\n",
       "      <td>-</td>\n",
       "      <td>12/Dec/2015:18:31:08</td>\n",
       "      <td>+0100</td>\n",
       "      <td>GET</td>\n",
       "      <td>/administrator/</td>\n",
       "      <td>HTTP/1.1</td>\n",
       "      <td>200</td>\n",
       "      <td>4263</td>\n",
       "      <td>-</td>\n",
       "      <td>Mozilla/5.0 (Windows NT 6.0; rv:34.0) Gecko/20100101 Firefox/34.0</td>\n",
       "      <td>-</td>\n",
       "    </tr>\n",
       "    <tr>\n",
       "      <th>3</th>\n",
       "      <td>46.72.177.4</td>\n",
       "      <td>-</td>\n",
       "      <td>-</td>\n",
       "      <td>12/Dec/2015:18:31:08</td>\n",
       "      <td>+0100</td>\n",
       "      <td>POST</td>\n",
       "      <td>/administrator/index.php</td>\n",
       "      <td>HTTP/1.1</td>\n",
       "      <td>200</td>\n",
       "      <td>4494</td>\n",
       "      <td>http://almhuette-raith.at/administrator/</td>\n",
       "      <td>Mozilla/5.0 (Windows NT 6.0; rv:34.0) Gecko/20100101 Firefox/34.0</td>\n",
       "      <td>-</td>\n",
       "    </tr>\n",
       "    <tr>\n",
       "      <th>4</th>\n",
       "      <td>83.167.113.100</td>\n",
       "      <td>-</td>\n",
       "      <td>-</td>\n",
       "      <td>12/Dec/2015:18:31:25</td>\n",
       "      <td>+0100</td>\n",
       "      <td>GET</td>\n",
       "      <td>/administrator/</td>\n",
       "      <td>HTTP/1.1</td>\n",
       "      <td>200</td>\n",
       "      <td>4263</td>\n",
       "      <td>-</td>\n",
       "      <td>Mozilla/5.0 (Windows NT 6.0; rv:34.0) Gecko/20100101 Firefox/34.0</td>\n",
       "      <td>-</td>\n",
       "    </tr>\n",
       "  </tbody>\n",
       "</table>\n",
       "</div>"
      ],
      "text/plain": [
       "                ip remote_log_name userid                  date timezone  \\\n",
       "0  109.169.248.247  -               -      12/Dec/2015:18:25:11  +0100     \n",
       "1  109.169.248.247  -               -      12/Dec/2015:18:25:11  +0100     \n",
       "2  46.72.177.4      -               -      12/Dec/2015:18:31:08  +0100     \n",
       "3  46.72.177.4      -               -      12/Dec/2015:18:31:08  +0100     \n",
       "4  83.167.113.100   -               -      12/Dec/2015:18:31:25  +0100     \n",
       "\n",
       "  request_method                      path request_version status length  \\\n",
       "0  GET            /administrator/            HTTP/1.1       200    4263    \n",
       "1  POST           /administrator/index.php   HTTP/1.1       200    4494    \n",
       "2  GET            /administrator/            HTTP/1.1       200    4263    \n",
       "3  POST           /administrator/index.php   HTTP/1.1       200    4494    \n",
       "4  GET            /administrator/            HTTP/1.1       200    4263    \n",
       "\n",
       "                                   referrer  \\\n",
       "0  -                                          \n",
       "1  http://almhuette-raith.at/administrator/   \n",
       "2  -                                          \n",
       "3  http://almhuette-raith.at/administrator/   \n",
       "4  -                                          \n",
       "\n",
       "                                                          user_agent extra  \n",
       "0  Mozilla/5.0 (Windows NT 6.0; rv:34.0) Gecko/20100101 Firefox/34.0  -     \n",
       "1  Mozilla/5.0 (Windows NT 6.0; rv:34.0) Gecko/20100101 Firefox/34.0  -     \n",
       "2  Mozilla/5.0 (Windows NT 6.0; rv:34.0) Gecko/20100101 Firefox/34.0  -     \n",
       "3  Mozilla/5.0 (Windows NT 6.0; rv:34.0) Gecko/20100101 Firefox/34.0  -     \n",
       "4  Mozilla/5.0 (Windows NT 6.0; rv:34.0) Gecko/20100101 Firefox/34.0  -     "
      ]
     },
     "execution_count": 16,
     "metadata": {},
     "output_type": "execute_result"
    }
   ],
   "source": [
    "df.head()"
   ]
  },
  {
   "cell_type": "code",
   "execution_count": 15,
   "metadata": {
    "scrolled": false
   },
   "outputs": [
    {
     "data": {
      "text/plain": [
       "ip                 47930 \n",
       "remote_log_name    1     \n",
       "userid             76    \n",
       "date               560298\n",
       "timezone           2     \n",
       "request_method     67    \n",
       "path               205259\n",
       "request_version    3     \n",
       "status             14    \n",
       "length             56672 \n",
       "referrer           12624 \n",
       "user_agent         16077 \n",
       "extra              1     \n",
       "dtype: int64"
      ]
     },
     "execution_count": 15,
     "metadata": {},
     "output_type": "execute_result"
    }
   ],
   "source": [
    "df.nunique()"
   ]
  },
  {
   "cell_type": "code",
   "execution_count": 15,
   "metadata": {},
   "outputs": [],
   "source": [
    "df[\"length\"] = df[\"length\"].where([not i for i in df[\"length\"].str.contains('-')], 0)"
   ]
  },
  {
   "cell_type": "code",
   "execution_count": 18,
   "metadata": {},
   "outputs": [],
   "source": [
    "df.to_csv(\"access.log.csv\")"
   ]
  },
  {
   "cell_type": "code",
   "execution_count": 2,
   "metadata": {},
   "outputs": [
    {
     "name": "stderr",
     "output_type": "stream",
     "text": [
      "c:\\users\\seowc\\appdata\\local\\programs\\python\\python37\\lib\\site-packages\\numpy\\lib\\arraysetops.py:522: FutureWarning: elementwise comparison failed; returning scalar instead, but in the future will perform elementwise comparison\n",
      "  mask |= (ar1 == a)\n"
     ]
    }
   ],
   "source": [
    "df = pd.read_csv(\"access.log.csv\", sep='\\n', delimiter=',', header=0, index_col=0)"
   ]
  },
  {
   "cell_type": "code",
   "execution_count": 3,
   "metadata": {
    "scrolled": true
   },
   "outputs": [
    {
     "data": {
      "text/html": [
       "<div>\n",
       "<style scoped>\n",
       "    .dataframe tbody tr th:only-of-type {\n",
       "        vertical-align: middle;\n",
       "    }\n",
       "\n",
       "    .dataframe tbody tr th {\n",
       "        vertical-align: top;\n",
       "    }\n",
       "\n",
       "    .dataframe thead th {\n",
       "        text-align: right;\n",
       "    }\n",
       "</style>\n",
       "<table border=\"1\" class=\"dataframe\">\n",
       "  <thead>\n",
       "    <tr style=\"text-align: right;\">\n",
       "      <th></th>\n",
       "      <th>ip</th>\n",
       "      <th>remote_log_name</th>\n",
       "      <th>userid</th>\n",
       "      <th>date</th>\n",
       "      <th>timezone</th>\n",
       "      <th>request_method</th>\n",
       "      <th>path</th>\n",
       "      <th>request_version</th>\n",
       "      <th>status</th>\n",
       "      <th>length</th>\n",
       "      <th>referrer</th>\n",
       "      <th>user_agent</th>\n",
       "      <th>extra</th>\n",
       "    </tr>\n",
       "  </thead>\n",
       "  <tbody>\n",
       "    <tr>\n",
       "      <th>0</th>\n",
       "      <td>109.169.248.247</td>\n",
       "      <td>-</td>\n",
       "      <td>-</td>\n",
       "      <td>12/Dec/2015:18:25:11</td>\n",
       "      <td>100</td>\n",
       "      <td>GET</td>\n",
       "      <td>/administrator/</td>\n",
       "      <td>HTTP/1.1</td>\n",
       "      <td>200</td>\n",
       "      <td>4263</td>\n",
       "      <td>-</td>\n",
       "      <td>Mozilla/5.0 (Windows NT 6.0; rv:34.0) Gecko/20100101 Firefox/34.0</td>\n",
       "      <td>-</td>\n",
       "    </tr>\n",
       "    <tr>\n",
       "      <th>1</th>\n",
       "      <td>109.169.248.247</td>\n",
       "      <td>-</td>\n",
       "      <td>-</td>\n",
       "      <td>12/Dec/2015:18:25:11</td>\n",
       "      <td>100</td>\n",
       "      <td>POST</td>\n",
       "      <td>/administrator/index.php</td>\n",
       "      <td>HTTP/1.1</td>\n",
       "      <td>200</td>\n",
       "      <td>4494</td>\n",
       "      <td>http://almhuette-raith.at/administrator/</td>\n",
       "      <td>Mozilla/5.0 (Windows NT 6.0; rv:34.0) Gecko/20100101 Firefox/34.0</td>\n",
       "      <td>-</td>\n",
       "    </tr>\n",
       "    <tr>\n",
       "      <th>2</th>\n",
       "      <td>46.72.177.4</td>\n",
       "      <td>-</td>\n",
       "      <td>-</td>\n",
       "      <td>12/Dec/2015:18:31:08</td>\n",
       "      <td>100</td>\n",
       "      <td>GET</td>\n",
       "      <td>/administrator/</td>\n",
       "      <td>HTTP/1.1</td>\n",
       "      <td>200</td>\n",
       "      <td>4263</td>\n",
       "      <td>-</td>\n",
       "      <td>Mozilla/5.0 (Windows NT 6.0; rv:34.0) Gecko/20100101 Firefox/34.0</td>\n",
       "      <td>-</td>\n",
       "    </tr>\n",
       "    <tr>\n",
       "      <th>3</th>\n",
       "      <td>46.72.177.4</td>\n",
       "      <td>-</td>\n",
       "      <td>-</td>\n",
       "      <td>12/Dec/2015:18:31:08</td>\n",
       "      <td>100</td>\n",
       "      <td>POST</td>\n",
       "      <td>/administrator/index.php</td>\n",
       "      <td>HTTP/1.1</td>\n",
       "      <td>200</td>\n",
       "      <td>4494</td>\n",
       "      <td>http://almhuette-raith.at/administrator/</td>\n",
       "      <td>Mozilla/5.0 (Windows NT 6.0; rv:34.0) Gecko/20100101 Firefox/34.0</td>\n",
       "      <td>-</td>\n",
       "    </tr>\n",
       "    <tr>\n",
       "      <th>4</th>\n",
       "      <td>83.167.113.100</td>\n",
       "      <td>-</td>\n",
       "      <td>-</td>\n",
       "      <td>12/Dec/2015:18:31:25</td>\n",
       "      <td>100</td>\n",
       "      <td>GET</td>\n",
       "      <td>/administrator/</td>\n",
       "      <td>HTTP/1.1</td>\n",
       "      <td>200</td>\n",
       "      <td>4263</td>\n",
       "      <td>-</td>\n",
       "      <td>Mozilla/5.0 (Windows NT 6.0; rv:34.0) Gecko/20100101 Firefox/34.0</td>\n",
       "      <td>-</td>\n",
       "    </tr>\n",
       "  </tbody>\n",
       "</table>\n",
       "</div>"
      ],
      "text/plain": [
       "                ip remote_log_name userid                  date  timezone  \\\n",
       "0  109.169.248.247  -               -      12/Dec/2015:18:25:11  100        \n",
       "1  109.169.248.247  -               -      12/Dec/2015:18:25:11  100        \n",
       "2  46.72.177.4      -               -      12/Dec/2015:18:31:08  100        \n",
       "3  46.72.177.4      -               -      12/Dec/2015:18:31:08  100        \n",
       "4  83.167.113.100   -               -      12/Dec/2015:18:31:25  100        \n",
       "\n",
       "  request_method                      path request_version  status  length  \\\n",
       "0  GET            /administrator/            HTTP/1.1       200     4263     \n",
       "1  POST           /administrator/index.php   HTTP/1.1       200     4494     \n",
       "2  GET            /administrator/            HTTP/1.1       200     4263     \n",
       "3  POST           /administrator/index.php   HTTP/1.1       200     4494     \n",
       "4  GET            /administrator/            HTTP/1.1       200     4263     \n",
       "\n",
       "                                   referrer  \\\n",
       "0  -                                          \n",
       "1  http://almhuette-raith.at/administrator/   \n",
       "2  -                                          \n",
       "3  http://almhuette-raith.at/administrator/   \n",
       "4  -                                          \n",
       "\n",
       "                                                          user_agent extra  \n",
       "0  Mozilla/5.0 (Windows NT 6.0; rv:34.0) Gecko/20100101 Firefox/34.0  -     \n",
       "1  Mozilla/5.0 (Windows NT 6.0; rv:34.0) Gecko/20100101 Firefox/34.0  -     \n",
       "2  Mozilla/5.0 (Windows NT 6.0; rv:34.0) Gecko/20100101 Firefox/34.0  -     \n",
       "3  Mozilla/5.0 (Windows NT 6.0; rv:34.0) Gecko/20100101 Firefox/34.0  -     \n",
       "4  Mozilla/5.0 (Windows NT 6.0; rv:34.0) Gecko/20100101 Firefox/34.0  -     "
      ]
     },
     "execution_count": 3,
     "metadata": {},
     "output_type": "execute_result"
    }
   ],
   "source": [
    "df.head()"
   ]
  },
  {
   "cell_type": "code",
   "execution_count": null,
   "metadata": {},
   "outputs": [],
   "source": []
  }
 ],
 "metadata": {
  "kernelspec": {
   "display_name": "Python 3",
   "language": "python",
   "name": "python3"
  },
  "language_info": {
   "codemirror_mode": {
    "name": "ipython",
    "version": 3
   },
   "file_extension": ".py",
   "mimetype": "text/x-python",
   "name": "python",
   "nbconvert_exporter": "python",
   "pygments_lexer": "ipython3",
   "version": "3.7.2"
  }
 },
 "nbformat": 4,
 "nbformat_minor": 2
}
