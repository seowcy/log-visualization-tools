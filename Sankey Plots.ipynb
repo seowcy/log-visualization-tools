{
 "cells": [
  {
   "cell_type": "code",
   "execution_count": 1,
   "metadata": {},
   "outputs": [],
   "source": [
    "from all_functions import *"
   ]
  },
  {
   "cell_type": "code",
   "execution_count": 2,
   "metadata": {},
   "outputs": [],
   "source": [
    "df_iter = pd.read_csv(\"access.log.csv\", sep='\\n', delimiter=',', header=0, index_col=0, chunksize=10000)"
   ]
  },
  {
   "cell_type": "code",
   "execution_count": 3,
   "metadata": {
    "scrolled": true
   },
   "outputs": [],
   "source": [
    "df = df_iter.get_chunk()"
   ]
  },
  {
   "cell_type": "code",
   "execution_count": 4,
   "metadata": {},
   "outputs": [
    {
     "data": {
      "text/plain": [
       "ip                 1387\n",
       "remote_log_name    1   \n",
       "userid             1   \n",
       "date               5047\n",
       "timezone           1   \n",
       "request_method     4   \n",
       "path               203 \n",
       "request_version    2   \n",
       "status             6   \n",
       "length             339 \n",
       "referrer           50  \n",
       "user_agent         131 \n",
       "extra              1   \n",
       "dtype: int64"
      ]
     },
     "execution_count": 4,
     "metadata": {},
     "output_type": "execute_result"
    }
   ],
   "source": [
    "df.nunique()"
   ]
  },
  {
   "cell_type": "code",
   "execution_count": 5,
   "metadata": {},
   "outputs": [
    {
     "data": {
      "text/plain": [
       "ip\n",
       "148.251.50.49     1929\n",
       "213.150.254.81    434 \n",
       "195.212.98.190    241 \n",
       "37.1.206.196      160 \n",
       "91.141.1.150      139 \n",
       "149.154.98.209    86  \n",
       "80.122.17.178     84  \n",
       "77.119.131.42     81  \n",
       "80.109.215.211    72  \n",
       "83.167.113.100    47  \n",
       "dtype: int64"
      ]
     },
     "execution_count": 5,
     "metadata": {},
     "output_type": "execute_result"
    }
   ],
   "source": [
    "df.groupby(\"ip\").size().sort_values(ascending=False).head(10)"
   ]
  },
  {
   "cell_type": "code",
   "execution_count": 6,
   "metadata": {
    "scrolled": true
   },
   "outputs": [
    {
     "data": {
      "text/html": [
       "<script type=\"text/javascript\">window.PlotlyConfig = {MathJaxConfig: 'local'};</script><script type=\"text/javascript\">if (window.MathJax) {MathJax.Hub.Config({SVG: {font: \"STIX-Web\"}});}</script><script>requirejs.config({paths: { 'plotly': ['https://cdn.plot.ly/plotly-latest.min']},});if(!window._Plotly) {require(['plotly'],function(plotly) {window._Plotly=plotly;});}</script>"
      ],
      "text/vnd.plotly.v1+html": [
       "<script type=\"text/javascript\">window.PlotlyConfig = {MathJaxConfig: 'local'};</script><script type=\"text/javascript\">if (window.MathJax) {MathJax.Hub.Config({SVG: {font: \"STIX-Web\"}});}</script><script>requirejs.config({paths: { 'plotly': ['https://cdn.plot.ly/plotly-latest.min']},});if(!window._Plotly) {require(['plotly'],function(plotly) {window._Plotly=plotly;});}</script>"
      ]
     },
     "metadata": {},
     "output_type": "display_data"
    },
    {
     "data": {
      "application/vnd.plotly.v1+json": {
       "config": {
        "linkText": "Export to plot.ly",
        "plotlyServerURL": "https://plot.ly",
        "showLink": false
       },
       "data": [
        {
         "link": {
          "source": [
           0,
           1,
           2,
           2
          ],
          "target": [
           1,
           2,
           3,
           4
          ],
          "value": [
           4,
           4,
           2,
           2
          ]
         },
         "node": {
          "color": [
           "blue",
           "black",
           "black",
           "black",
           "black"
          ],
          "label": [
           ".",
           "/",
           "administrator",
           "/",
           "index.php"
          ],
          "line": {
           "color": "black",
           "width": 0.5
          },
          "pad": 15,
          "thickness": 20
         },
         "type": "sankey",
         "uid": "dbf4a171-bf16-4260-b708-5a9c9526e1e5"
        }
       ],
       "layout": {
        "font": {
         "size": 10
        },
        "title": {
         "text": "Sankey Diagram for 94.241.241.163"
        }
       }
      },
      "text/html": [
       "<div id=\"ff94fe2d-cc7f-4645-b49f-78d64d1e5c3d\" style=\"height: 525px; width: 100%;\" class=\"plotly-graph-div\"></div><script type=\"text/javascript\">require([\"plotly\"], function(Plotly) { window.PLOTLYENV=window.PLOTLYENV || {};window.PLOTLYENV.BASE_URL=\"https://plot.ly\";Plotly.newPlot(\"ff94fe2d-cc7f-4645-b49f-78d64d1e5c3d\", [{\"link\": {\"source\": [0, 1, 2, 2], \"target\": [1, 2, 3, 4], \"value\": [4, 4, 2, 2]}, \"node\": {\"color\": [\"blue\", \"black\", \"black\", \"black\", \"black\"], \"label\": [\".\", \"/\", \"administrator\", \"/\", \"index.php\"], \"line\": {\"color\": \"black\", \"width\": 0.5}, \"pad\": 15, \"thickness\": 20}, \"type\": \"sankey\", \"uid\": \"38e98cb0-10c3-469e-8671-58f20f15d09d\"}], {\"font\": {\"size\": 10}, \"title\": {\"text\": \"Sankey Diagram for 94.241.241.163\"}}, {\"showLink\": false, \"linkText\": \"Export to plot.ly\", \"plotlyServerURL\": \"https://plot.ly\"})});</script><script type=\"text/javascript\">window.addEventListener(\"resize\", function(){window._Plotly.Plots.resize(document.getElementById(\"ff94fe2d-cc7f-4645-b49f-78d64d1e5c3d\"));});</script>"
      ],
      "text/vnd.plotly.v1+html": [
       "<div id=\"ff94fe2d-cc7f-4645-b49f-78d64d1e5c3d\" style=\"height: 525px; width: 100%;\" class=\"plotly-graph-div\"></div><script type=\"text/javascript\">require([\"plotly\"], function(Plotly) { window.PLOTLYENV=window.PLOTLYENV || {};window.PLOTLYENV.BASE_URL=\"https://plot.ly\";Plotly.newPlot(\"ff94fe2d-cc7f-4645-b49f-78d64d1e5c3d\", [{\"link\": {\"source\": [0, 1, 2, 2], \"target\": [1, 2, 3, 4], \"value\": [4, 4, 2, 2]}, \"node\": {\"color\": [\"blue\", \"black\", \"black\", \"black\", \"black\"], \"label\": [\".\", \"/\", \"administrator\", \"/\", \"index.php\"], \"line\": {\"color\": \"black\", \"width\": 0.5}, \"pad\": 15, \"thickness\": 20}, \"type\": \"sankey\", \"uid\": \"38e98cb0-10c3-469e-8671-58f20f15d09d\"}], {\"font\": {\"size\": 10}, \"title\": {\"text\": \"Sankey Diagram for 94.241.241.163\"}}, {\"showLink\": false, \"linkText\": \"Export to plot.ly\", \"plotlyServerURL\": \"https://plot.ly\"})});</script><script type=\"text/javascript\">window.addEventListener(\"resize\", function(){window._Plotly.Plots.resize(document.getElementById(\"ff94fe2d-cc7f-4645-b49f-78d64d1e5c3d\"));});</script>"
      ]
     },
     "metadata": {},
     "output_type": "display_data"
    }
   ],
   "source": [
    "from plotly.offline import download_plotlyjs, init_notebook_mode, plot, iplot\n",
    "init_notebook_mode(connected=True)\n",
    "\n",
    "for ip in random.sample(list(df.groupby(\"ip\").size().sort_values(ascending=False).index), 1): \n",
    "    df_1 = df[df[\"ip\"] == ip]\n",
    "    plot_sankey_from_df(df_1,save=False)"
   ]
  },
  {
   "cell_type": "code",
   "execution_count": 8,
   "metadata": {
    "scrolled": true
   },
   "outputs": [
    {
     "name": "stdout",
     "output_type": "stream",
     "text": [
      "{\n",
      "    \"^\": 13,\n",
      "    \"/\": {\n",
      "        \"^\": 13,\n",
      "        \"/\": {\n",
      "            \"^\": 1\n",
      "        },\n",
      "        \"media\": {\n",
      "            \"^\": 2,\n",
      "            \"system\": {\n",
      "                \"^\": 2,\n",
      "                \"js\": {\n",
      "                    \"^\": 2,\n",
      "                    \"caption.js\": {\n",
      "                        \"^\": 1\n",
      "                    },\n",
      "                    \"mootools.js\": {\n",
      "                        \"^\": 1\n",
      "                    }\n",
      "                }\n",
      "            }\n",
      "        },\n",
      "        \"templates\": {\n",
      "            \"^\": 6,\n",
      "            \"jp_hotel\": {\n",
      "                \"^\": 5,\n",
      "                \"css\": {\n",
      "                    \"^\": 4,\n",
      "                    \"template.css\": {\n",
      "                        \"^\": 1\n",
      "                    },\n",
      "                    \"layout.css\": {\n",
      "                        \"^\": 1\n",
      "                    },\n",
      "                    \"menu.css\": {\n",
      "                        \"^\": 1\n",
      "                    },\n",
      "                    \"suckerfish.css\": {\n",
      "                        \"^\": 1\n",
      "                    }\n",
      "                },\n",
      "                \"js\": {\n",
      "                    \"^\": 1,\n",
      "                    \"moomenu.js\": {\n",
      "                        \"^\": 1\n",
      "                    }\n",
      "                }\n",
      "            },\n",
      "            \"_system\": {\n",
      "                \"^\": 1,\n",
      "                \"css\": {\n",
      "                    \"^\": 1,\n",
      "                    \"general.css\": {\n",
      "                        \"^\": 1\n",
      "                    }\n",
      "                }\n",
      "            }\n",
      "        },\n",
      "        \"modules\": {\n",
      "            \"^\": 2,\n",
      "            \"mod_bowslideshow\": {\n",
      "                \"^\": 2,\n",
      "                \"tmpl\": {\n",
      "                    \"^\": 2,\n",
      "                    \"js\": {\n",
      "                        \"^\": 1,\n",
      "                        \"sliderman.1.3.0.js\": {\n",
      "                            \"^\": 1\n",
      "                        }\n",
      "                    },\n",
      "                    \"css\": {\n",
      "                        \"^\": 1,\n",
      "                        \"bowslideshow.css\": {\n",
      "                            \"^\": 1\n",
      "                        }\n",
      "                    }\n",
      "                }\n",
      "            }\n",
      "        },\n",
      "        \"images\": {\n",
      "            \"^\": 2,\n",
      "            \"stories\": {\n",
      "                \"^\": 2,\n",
      "                \"slideshow\": {\n",
      "                    \"^\": 2,\n",
      "                    \"almhuette_raith_01.jpg\": {\n",
      "                        \"^\": 1\n",
      "                    },\n",
      "                    \"almhuette_raith_02.jpg\": {\n",
      "                        \"^\": 1\n",
      "                    }\n",
      "                }\n",
      "            }\n",
      "        }\n",
      "    }\n",
      "}\n"
     ]
    }
   ],
   "source": [
    "ip = \"190.236.175.201\"\n",
    "df_2 = df[df[\"ip\"] == ip]\n",
    "results = get_results(df_2)\n",
    "print(json.dumps(results, indent=4))"
   ]
  },
  {
   "cell_type": "code",
   "execution_count": 9,
   "metadata": {},
   "outputs": [
    {
     "data": {
      "application/vnd.plotly.v1+json": {
       "config": {
        "linkText": "Export to plot.ly",
        "plotlyServerURL": "https://plot.ly",
        "showLink": false
       },
       "data": [
        {
         "link": {
          "source": [
           0,
           1,
           1,
           3,
           4,
           5,
           5,
           1,
           8,
           9,
           10,
           10,
           10,
           10,
           9,
           15,
           8,
           17,
           18,
           1,
           20,
           21,
           22,
           23,
           22,
           25,
           1,
           27,
           28,
           29,
           29
          ],
          "target": [
           1,
           2,
           3,
           4,
           5,
           6,
           7,
           8,
           9,
           10,
           11,
           12,
           13,
           14,
           15,
           16,
           17,
           18,
           19,
           20,
           21,
           22,
           23,
           24,
           25,
           26,
           27,
           28,
           29,
           30,
           31
          ],
          "value": [
           13,
           1,
           2,
           2,
           2,
           1,
           1,
           6,
           5,
           4,
           1,
           1,
           1,
           1,
           1,
           1,
           1,
           1,
           1,
           2,
           2,
           2,
           1,
           1,
           1,
           1,
           2,
           2,
           2,
           1,
           1
          ]
         },
         "node": {
          "color": [
           "blue",
           "black",
           "black",
           "black",
           "black",
           "black",
           "black",
           "black",
           "black",
           "black",
           "black",
           "black",
           "black",
           "black",
           "black",
           "black",
           "black",
           "black",
           "black",
           "black",
           "black",
           "black",
           "black",
           "black",
           "black",
           "black",
           "black",
           "black",
           "black",
           "black",
           "black",
           "black"
          ],
          "label": [
           ".",
           "/",
           "/",
           "media",
           "system",
           "js",
           "caption.js",
           "mootools.js",
           "templates",
           "jp_hotel",
           "css",
           "template.css",
           "layout.css",
           "menu.css",
           "suckerfish.css",
           "js",
           "moomenu.js",
           "_system",
           "css",
           "general.css",
           "modules",
           "mod_bowslideshow",
           "tmpl",
           "js",
           "sliderman.1.3.0.js",
           "css",
           "bowslideshow.css",
           "images",
           "stories",
           "slideshow",
           "almhuette_raith_01.jpg",
           "almhuette_raith_02.jpg"
          ],
          "line": {
           "color": "black",
           "width": 0.5
          },
          "pad": 15,
          "thickness": 20
         },
         "type": "sankey",
         "uid": "4e0a9ded-7c6e-4e9e-b275-1bab25016fa7"
        }
       ],
       "layout": {
        "font": {
         "size": 10
        },
        "title": {
         "text": "Sankey Diagram"
        }
       }
      },
      "text/html": [
       "<div id=\"c09984c1-e8e3-4719-9bf0-8bc7367a7cf0\" style=\"height: 525px; width: 100%;\" class=\"plotly-graph-div\"></div><script type=\"text/javascript\">require([\"plotly\"], function(Plotly) { window.PLOTLYENV=window.PLOTLYENV || {};window.PLOTLYENV.BASE_URL=\"https://plot.ly\";Plotly.newPlot(\"c09984c1-e8e3-4719-9bf0-8bc7367a7cf0\", [{\"link\": {\"source\": [0, 1, 1, 3, 4, 5, 5, 1, 8, 9, 10, 10, 10, 10, 9, 15, 8, 17, 18, 1, 20, 21, 22, 23, 22, 25, 1, 27, 28, 29, 29], \"target\": [1, 2, 3, 4, 5, 6, 7, 8, 9, 10, 11, 12, 13, 14, 15, 16, 17, 18, 19, 20, 21, 22, 23, 24, 25, 26, 27, 28, 29, 30, 31], \"value\": [13, 1, 2, 2, 2, 1, 1, 6, 5, 4, 1, 1, 1, 1, 1, 1, 1, 1, 1, 2, 2, 2, 1, 1, 1, 1, 2, 2, 2, 1, 1]}, \"node\": {\"color\": [\"blue\", \"black\", \"black\", \"black\", \"black\", \"black\", \"black\", \"black\", \"black\", \"black\", \"black\", \"black\", \"black\", \"black\", \"black\", \"black\", \"black\", \"black\", \"black\", \"black\", \"black\", \"black\", \"black\", \"black\", \"black\", \"black\", \"black\", \"black\", \"black\", \"black\", \"black\", \"black\"], \"label\": [\".\", \"/\", \"/\", \"media\", \"system\", \"js\", \"caption.js\", \"mootools.js\", \"templates\", \"jp_hotel\", \"css\", \"template.css\", \"layout.css\", \"menu.css\", \"suckerfish.css\", \"js\", \"moomenu.js\", \"_system\", \"css\", \"general.css\", \"modules\", \"mod_bowslideshow\", \"tmpl\", \"js\", \"sliderman.1.3.0.js\", \"css\", \"bowslideshow.css\", \"images\", \"stories\", \"slideshow\", \"almhuette_raith_01.jpg\", \"almhuette_raith_02.jpg\"], \"line\": {\"color\": \"black\", \"width\": 0.5}, \"pad\": 15, \"thickness\": 20}, \"type\": \"sankey\", \"uid\": \"23f34931-d338-433b-a7a0-c56b30530af1\"}], {\"font\": {\"size\": 10}, \"title\": {\"text\": \"Sankey Diagram\"}}, {\"showLink\": false, \"linkText\": \"Export to plot.ly\", \"plotlyServerURL\": \"https://plot.ly\"})});</script><script type=\"text/javascript\">window.addEventListener(\"resize\", function(){window._Plotly.Plots.resize(document.getElementById(\"c09984c1-e8e3-4719-9bf0-8bc7367a7cf0\"));});</script>"
      ],
      "text/vnd.plotly.v1+html": [
       "<div id=\"c09984c1-e8e3-4719-9bf0-8bc7367a7cf0\" style=\"height: 525px; width: 100%;\" class=\"plotly-graph-div\"></div><script type=\"text/javascript\">require([\"plotly\"], function(Plotly) { window.PLOTLYENV=window.PLOTLYENV || {};window.PLOTLYENV.BASE_URL=\"https://plot.ly\";Plotly.newPlot(\"c09984c1-e8e3-4719-9bf0-8bc7367a7cf0\", [{\"link\": {\"source\": [0, 1, 1, 3, 4, 5, 5, 1, 8, 9, 10, 10, 10, 10, 9, 15, 8, 17, 18, 1, 20, 21, 22, 23, 22, 25, 1, 27, 28, 29, 29], \"target\": [1, 2, 3, 4, 5, 6, 7, 8, 9, 10, 11, 12, 13, 14, 15, 16, 17, 18, 19, 20, 21, 22, 23, 24, 25, 26, 27, 28, 29, 30, 31], \"value\": [13, 1, 2, 2, 2, 1, 1, 6, 5, 4, 1, 1, 1, 1, 1, 1, 1, 1, 1, 2, 2, 2, 1, 1, 1, 1, 2, 2, 2, 1, 1]}, \"node\": {\"color\": [\"blue\", \"black\", \"black\", \"black\", \"black\", \"black\", \"black\", \"black\", \"black\", \"black\", \"black\", \"black\", \"black\", \"black\", \"black\", \"black\", \"black\", \"black\", \"black\", \"black\", \"black\", \"black\", \"black\", \"black\", \"black\", \"black\", \"black\", \"black\", \"black\", \"black\", \"black\", \"black\"], \"label\": [\".\", \"/\", \"/\", \"media\", \"system\", \"js\", \"caption.js\", \"mootools.js\", \"templates\", \"jp_hotel\", \"css\", \"template.css\", \"layout.css\", \"menu.css\", \"suckerfish.css\", \"js\", \"moomenu.js\", \"_system\", \"css\", \"general.css\", \"modules\", \"mod_bowslideshow\", \"tmpl\", \"js\", \"sliderman.1.3.0.js\", \"css\", \"bowslideshow.css\", \"images\", \"stories\", \"slideshow\", \"almhuette_raith_01.jpg\", \"almhuette_raith_02.jpg\"], \"line\": {\"color\": \"black\", \"width\": 0.5}, \"pad\": 15, \"thickness\": 20}, \"type\": \"sankey\", \"uid\": \"23f34931-d338-433b-a7a0-c56b30530af1\"}], {\"font\": {\"size\": 10}, \"title\": {\"text\": \"Sankey Diagram\"}}, {\"showLink\": false, \"linkText\": \"Export to plot.ly\", \"plotlyServerURL\": \"https://plot.ly\"})});</script><script type=\"text/javascript\">window.addEventListener(\"resize\", function(){window._Plotly.Plots.resize(document.getElementById(\"c09984c1-e8e3-4719-9bf0-8bc7367a7cf0\"));});</script>"
      ]
     },
     "metadata": {},
     "output_type": "display_data"
    }
   ],
   "source": [
    "plot_sankey_from_results(results,save=False)"
   ]
  },
  {
   "cell_type": "code",
   "execution_count": null,
   "metadata": {},
   "outputs": [],
   "source": []
  }
 ],
 "metadata": {
  "kernelspec": {
   "display_name": "Python 3",
   "language": "python",
   "name": "python3"
  },
  "language_info": {
   "codemirror_mode": {
    "name": "ipython",
    "version": 3
   },
   "file_extension": ".py",
   "mimetype": "text/x-python",
   "name": "python",
   "nbconvert_exporter": "python",
   "pygments_lexer": "ipython3",
   "version": "3.7.2"
  }
 },
 "nbformat": 4,
 "nbformat_minor": 2
}
